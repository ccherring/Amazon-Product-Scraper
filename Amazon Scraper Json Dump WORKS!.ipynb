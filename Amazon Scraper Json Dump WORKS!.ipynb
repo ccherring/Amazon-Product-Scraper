{
 "cells": [
  {
   "cell_type": "code",
   "execution_count": 1,
   "metadata": {},
   "outputs": [],
   "source": [
    ">>> import certifi\n",
    ">>> import urllib3\n",
    ">>> http = urllib3.PoolManager(\n",
    "cert_reqs='CERT_REQUIRED',\n",
    "ca_certs=certifi.where())"
   ]
  },
  {
   "cell_type": "code",
   "execution_count": 2,
   "metadata": {},
   "outputs": [],
   "source": [
    "from lxml import html  \n",
    "import json\n",
    "import requests\n",
    "import json,re\n",
    "from dateutil import parser as dateparser\n",
    "from time import sleep\n",
    "import csv"
   ]
  },
  {
   "cell_type": "code",
   "execution_count": 3,
   "metadata": {},
   "outputs": [],
   "source": [
    "def ParseReviews(asin):\n",
    "\tfor i in range(5):\n",
    "\t\ttry:\n",
    "\t\t\t#This script has only been tested with Amazon.com\n",
    "\t\t\tamazon_url  = 'http://www.amazon.com/dp/'+asin\n",
    "\t\t\t# Add some recent user agent to prevent amazon from blocking the request \n",
    "\t\t\t# Find some chrome user agent strings  here https://udger.com/resources/ua-list/browser-detail?browser=Chrome\n",
    "\t\t\theaders = {'User-Agent': 'Mozilla/5.0 (X11; Linux x86_64) AppleWebKit/537.36 (KHTML, like Gecko) Chrome/42.0.2311.90 Safari/537.36'}\n",
    "\t\t\tpage = requests.get(amazon_url,headers = headers,verify=True)\n",
    "\t\t\tpage_response = page.text\n",
    "\n",
    "\t\t\tparser = html.fromstring(page_response)\n",
    "\t\t\tXPATH_AGGREGATE = '//span[@id=\"acrCustomerReviewText\"]'\n",
    "\t\t\tXPATH_REVIEW_SECTION_1 = '//div[contains(@id,\"reviews-summary\")]'\n",
    "\t\t\tXPATH_REVIEW_SECTION_2 = '//div[@data-hook=\"review\"]'\n",
    "\n",
    "\t\t\tXPATH_AGGREGATE_RATING = '//table[@id=\"histogramTable\"]//tr'\n",
    "\t\t\tXPATH_PRODUCT_NAME = '//h1//span[@id=\"productTitle\"]//text()'\n",
    "\t\t\tXPATH_PRODUCT_PRICE  = '//span[@id=\"priceblock_ourprice\"]/text()'\n",
    "\t\t\t\n",
    "\t\t\traw_product_price = parser.xpath(XPATH_PRODUCT_PRICE)\n",
    "\t\t\tproduct_price = ''.join(raw_product_price).replace(',','')\n",
    "\n",
    "\t\t\traw_product_name = parser.xpath(XPATH_PRODUCT_NAME)\n",
    "\t\t\tproduct_name = ''.join(raw_product_name).strip()\n",
    "\t\t\ttotal_ratings  = parser.xpath(XPATH_AGGREGATE_RATING)\n",
    "\t\t\treviews = parser.xpath(XPATH_REVIEW_SECTION_1)\n",
    "\t\t\tif not reviews:\n",
    "\t\t\t\treviews = parser.xpath(XPATH_REVIEW_SECTION_2)\n",
    "\t\t\tratings_dict = {}\n",
    "\t\t\treviews_list = []\n",
    "\t\t\t\n",
    "\t\t\tif not reviews:\n",
    "\t\t\t\traise ValueError('unable to find reviews in page')\n",
    "\n",
    "\t\t\t#grabing the rating  section in product page\n",
    "\t\t\tfor ratings in total_ratings:\n",
    "\t\t\t\textracted_rating = ratings.xpath('./td//a//text()')\n",
    "\t\t\t\tif extracted_rating:\n",
    "\t\t\t\t\trating_key = extracted_rating[0] \n",
    "\t\t\t\t\traw_raing_value = extracted_rating[1]\n",
    "\t\t\t\t\trating_value = raw_raing_value\n",
    "\t\t\t\t\tif rating_key:\n",
    "\t\t\t\t\t\tratings_dict.update({rating_key:rating_value})\n",
    "\t\t\t#Parsing individual reviews\n",
    "\t\t\tfor review in reviews:\n",
    "\t\t\t\tXPATH_RATING  = './/i[@data-hook=\"review-star-rating\"]//text()'\n",
    "\t\t\t\tXPATH_REVIEW_HEADER = './/a[@data-hook=\"review-title\"]//text()'\n",
    "\t\t\t\tXPATH_REVIEW_POSTED_DATE = './/span[@data-hook=\"review-date\"]//text()'\n",
    "\t\t\t\tXPATH_REVIEW_TEXT_1 = './/div[@data-hook=\"review-collapsed\"]//text()'\n",
    "\t\t\t\tXPATH_REVIEW_TEXT_2 = './/div//span[@data-action=\"columnbalancing-showfullreview\"]/@data-columnbalancing-showfullreview'\n",
    "\t\t\t\tXPATH_REVIEW_COMMENTS = './/span[@data-hook=\"review-comment\"]//text()'\n",
    "\t\t\t\tXPATH_AUTHOR  = './/a[contains(@href,\"/profile/\")]/parent::span//text()'\n",
    "\t\t\t\tXPATH_REVIEW_TEXT_3  = './/div[contains(@id,\"dpReviews\")]/div/text()'\n",
    "\t\t\t\traw_review_author = review.xpath(XPATH_AUTHOR)\n",
    "\t\t\t\traw_review_rating = review.xpath(XPATH_RATING)\n",
    "\t\t\t\traw_review_header = review.xpath(XPATH_REVIEW_HEADER)\n",
    "\t\t\t\traw_review_posted_date = review.xpath(XPATH_REVIEW_POSTED_DATE)\n",
    "\t\t\t\traw_review_text1 = review.xpath(XPATH_REVIEW_TEXT_1)\n",
    "\t\t\t\traw_review_text2 = review.xpath(XPATH_REVIEW_TEXT_2)\n",
    "\t\t\t\traw_review_text3 = review.xpath(XPATH_REVIEW_TEXT_3)\n",
    "\n",
    "\t\t\t\tauthor = ' '.join(' '.join(raw_review_author).split()).strip('By')\n",
    "\n",
    "\t\t\t\t#cleaning data\n",
    "\t\t\t\treview_rating = ''.join(raw_review_rating).replace('out of 5 stars','')\n",
    "\t\t\t\treview_header = ' '.join(' '.join(raw_review_header).split())\n",
    "\t\t\t\treview_posted_date = dateparser.parse(''.join(raw_review_posted_date)).strftime('%d %b %Y')\n",
    "\t\t\t\treview_text = ' '.join(' '.join(raw_review_text1).split())\n",
    "\n",
    "\t\t\t\t#grabbing hidden comments if present\n",
    "\t\t\t\tif raw_review_text2:\n",
    "\t\t\t\t\tjson_loaded_review_data = json.loads(raw_review_text2[0])\n",
    "\t\t\t\t\tjson_loaded_review_data_text = json_loaded_review_data['rest']\n",
    "\t\t\t\t\tcleaned_json_loaded_review_data_text = re.sub('<.*?>','',json_loaded_review_data_text)\n",
    "\t\t\t\t\tfull_review_text = review_text+cleaned_json_loaded_review_data_text\n",
    "\t\t\t\telse:\n",
    "\t\t\t\t\tfull_review_text = review_text\n",
    "\t\t\t\tif not raw_review_text1:\n",
    "\t\t\t\t\tfull_review_text = ' '.join(' '.join(raw_review_text3).split())\n",
    "\n",
    "\t\t\t\traw_review_comments = review.xpath(XPATH_REVIEW_COMMENTS)\n",
    "\t\t\t\treview_comments = ''.join(raw_review_comments)\n",
    "\t\t\t\treview_comments = re.sub('[A-Za-z]','',review_comments).strip()\n",
    "\t\t\t\treview_dict = {\n",
    "\t\t\t\t\t\t\t\t\t#'review_comment_count':review_comments,\n",
    "\t\t\t\t\t\t\t\t\t'product':product_name,\n",
    "\t\t\t\t\t\t\t\t\t'price':product_price,\n",
    "\t\t\t\t\t\t\t\t\t'review_text':full_review_text,\n",
    "\t\t\t\t\t\t\t\t\t'review_posted_date':review_posted_date,\n",
    "\t\t\t\t\t\t\t\t\t'review_header':review_header,\n",
    "\t\t\t\t\t\t\t\t\t'review_rating':review_rating\n",
    "\t\t\t\t\t\t\t\t\t#'review_author':author\n",
    "\n",
    "\t\t\t\t\t\t\t\t}\n",
    "\t\t\t\treviews_list.append(review_dict)\n",
    "\n",
    "\t\t\tdata = {\n",
    "\t\t\t\t\t\t#'ratings':ratings_dict,\n",
    "\t\t\t\t\t\t'reviews':reviews_list\n",
    "\t\t\t\t\t\t#'url':amazon_url,\n",
    "\t\t\t\t\t\t#'price':product_price,\n",
    "\t\t\t\t\t\t#'name':product_name\n",
    "\t\t\t\t\t}\n",
    "\t\t\treturn data\n",
    "\t\texcept ValueError:\n",
    "\t\t\tprint (\"Retrying to get the correct response\")\n",
    "\t\n",
    "\treturn {\"error\":\"failed to process the page\",\"asin\":asin}"
   ]
  },
  {
   "cell_type": "code",
   "execution_count": 4,
   "metadata": {},
   "outputs": [
    {
     "name": "stdout",
     "output_type": "stream",
     "text": [
      "Retrying to get the correct response\n",
      "Retrying to get the correct response\n"
     ]
    }
   ],
   "source": [
    "##JSON dump works up to here##\n",
    "data = ParseReviews('B00BUW9OZO')"
   ]
  },
  {
   "cell_type": "code",
   "execution_count": 5,
   "metadata": {},
   "outputs": [],
   "source": [
    "datafile = 'dataAmazon.csv'"
   ]
  },
  {
   "cell_type": "code",
   "execution_count": 6,
   "metadata": {},
   "outputs": [
    {
     "data": {
      "text/plain": [
       "dict_keys(['reviews'])"
      ]
     },
     "execution_count": 6,
     "metadata": {},
     "output_type": "execute_result"
    }
   ],
   "source": [
    "data = dict(data)\n",
    "data.keys()"
   ]
  },
  {
   "cell_type": "code",
   "execution_count": 7,
   "metadata": {},
   "outputs": [
    {
     "data": {
      "text/plain": [
       "[('reviews',\n",
       "  [{'product': 'Angel Soft Bath Tissue, 18 Double Rolls',\n",
       "    'price': '$14.99',\n",
       "    'review_text': \"This has to be the worst toilet paper I have ever used. It's not even as good as Grandma's outhouse catalog pages. No absorbency what-so-ever. You need about eight sheets for the absorbency of three of a good paper. Spend a little more and get much more for your money. Extra large cardboard core is also very wasteful. ~~~Janice ~~~\",\n",
       "    'review_posted_date': '18 Jun 2016',\n",
       "    'review_header': 'Lousy bathroom product',\n",
       "    'review_rating': '1.0 '},\n",
       "   {'product': 'Angel Soft Bath Tissue, 18 Double Rolls',\n",
       "    'price': '$14.99',\n",
       "    'review_text': \"These are the same packs I would buy at walmart but about a dollar cheaper. And with my Prime membership, having it delivered right to my door in 2 days makes it well worth the buy. It's my favorite brand in that it's right in the middle of that sweet spot of not too soft, not too strong. It's not like the discount tree-bark stuff that you usually find in a public restroom, but also not that overly soft junk that shreds as you swipe. Do you really need to know more?\",\n",
       "    'review_posted_date': '02 Sep 2013',\n",
       "    'review_header': \"Clean yo'self\",\n",
       "    'review_rating': '4.0 '},\n",
       "   {'product': 'Angel Soft Bath Tissue, 18 Double Rolls',\n",
       "    'price': '$14.99',\n",
       "    'review_text': \"I mean how can you give toilet paper a bad review? I suppose some is not good but this is soft, doesn't crumble and is super affordable and is one thing that I can get delivered so I don't have to get it at the store! I will always buy this brand.\",\n",
       "    'review_posted_date': '13 Sep 2016',\n",
       "    'review_header': 'I mean how can you give toilet paper a bad review? I suppose some is not good but ...',\n",
       "    'review_rating': '5.0 '},\n",
       "   {'product': 'Angel Soft Bath Tissue, 18 Double Rolls',\n",
       "    'price': '$14.99',\n",
       "    'review_text': 'Even though they\\'re called \"double rolls\" they come up short versus the Angel Soft 2-ply version that is sold in bulk for business use. And the softness and absorbancy is no better.',\n",
       "    'review_posted_date': '22 Feb 2017',\n",
       "    'review_header': 'Still No Good',\n",
       "    'review_rating': '2.0 '},\n",
       "   {'product': 'Angel Soft Bath Tissue, 18 Double Rolls',\n",
       "    'price': '$14.99',\n",
       "    'review_text': \"Only toilet paper I will ever use. I love the quality, packaging, design, softness. What more can I say it is by far the best toilet paper on the market. But it you won't be sorry and your guests will ask where you got it from. They probably get their toilet paper from Costco.\",\n",
       "    'review_posted_date': '27 May 2016',\n",
       "    'review_header': 'I love the quality',\n",
       "    'review_rating': '5.0 '},\n",
       "   {'product': 'Angel Soft Bath Tissue, 18 Double Rolls',\n",
       "    'price': '$14.99',\n",
       "    'review_text': \"Can't say that I thoroughly enjoy one brand of TP over the other, but I do like Angel Soft over the others I've used like Quilted Northern and Scott. Angel Soft doesn't tear as easily, and doesn't shred into little bits of dust like some TP and facial tissues do. More importantly, I ordered when I was almost out of TP and hoped for the best - and my order arrived in time. Great work, Amazon, I otherwise would have had quite a mess on my hands. Heh.\",\n",
       "    'review_posted_date': '21 Aug 2013',\n",
       "    'review_header': 'Great TP',\n",
       "    'review_rating': '4.0 '},\n",
       "   {'product': 'Angel Soft Bath Tissue, 18 Double Rolls',\n",
       "    'price': '$14.99',\n",
       "    'review_text': 'Good quality yet reasonably priced. Not too thinker soft. Some toilet tissues are so thick they clog your pipes until you use less. This is happy medium.',\n",
       "    'review_posted_date': '15 Jul 2017',\n",
       "    'review_header': 'Good quality yet reasonably priced',\n",
       "    'review_rating': '5.0 '},\n",
       "   {'product': 'Angel Soft Bath Tissue, 18 Double Rolls',\n",
       "    'price': '$14.99',\n",
       "    'review_text': 'Perfect.',\n",
       "    'review_posted_date': '08 Jul 2018',\n",
       "    'review_header': 'Five Stars',\n",
       "    'review_rating': '5.0 '}])]"
      ]
     },
     "execution_count": 7,
     "metadata": {},
     "output_type": "execute_result"
    }
   ],
   "source": [
    "list(data.items())"
   ]
  },
  {
   "cell_type": "code",
   "execution_count": 8,
   "metadata": {},
   "outputs": [],
   "source": [
    "import pandas as pd"
   ]
  },
  {
   "cell_type": "code",
   "execution_count": 9,
   "metadata": {},
   "outputs": [
    {
     "data": {
      "text/html": [
       "<div>\n",
       "<style scoped>\n",
       "    .dataframe tbody tr th:only-of-type {\n",
       "        vertical-align: middle;\n",
       "    }\n",
       "\n",
       "    .dataframe tbody tr th {\n",
       "        vertical-align: top;\n",
       "    }\n",
       "\n",
       "    .dataframe thead th {\n",
       "        text-align: right;\n",
       "    }\n",
       "</style>\n",
       "<table border=\"1\" class=\"dataframe\">\n",
       "  <thead>\n",
       "    <tr style=\"text-align: right;\">\n",
       "      <th></th>\n",
       "      <th>0</th>\n",
       "      <th>1</th>\n",
       "    </tr>\n",
       "  </thead>\n",
       "  <tbody>\n",
       "    <tr>\n",
       "      <th>0</th>\n",
       "      <td>reviews</td>\n",
       "      <td>[{'product': 'Angel Soft Bath Tissue, 18 Doubl...</td>\n",
       "    </tr>\n",
       "  </tbody>\n",
       "</table>\n",
       "</div>"
      ],
      "text/plain": [
       "         0                                                  1\n",
       "0  reviews  [{'product': 'Angel Soft Bath Tissue, 18 Doubl..."
      ]
     },
     "execution_count": 9,
     "metadata": {},
     "output_type": "execute_result"
    }
   ],
   "source": [
    "pd.DataFrame.from_dict(list(data.items()))"
   ]
  },
  {
   "cell_type": "code",
   "execution_count": 15,
   "metadata": {},
   "outputs": [],
   "source": [
    "with open(datafile, 'w') as f:\n",
    "    fieldnames = ['Product', 'Price', 'Review_Text', 'Review_Date', 'Title', 'Rating']\n",
    "    writer = csv.DictWriter(f, fieldnames=fieldnames)\n",
    "    writer.writeheader()\n",
    "    data2 = [dict(zip(fieldnames, [a, b,])) for a, b in data.items()]\n",
    "    writer.writerows(data2)"
   ]
  },
  {
   "cell_type": "code",
   "execution_count": 14,
   "metadata": {},
   "outputs": [],
   "source": [
    "with open(datafile, 'w', newline='', encoding='utf8') as f:\n",
    "    w = csv.writer(f, delimiter='\\t')\n",
    "    w.writerow(data.items())"
   ]
  },
  {
   "cell_type": "code",
   "execution_count": 18,
   "metadata": {},
   "outputs": [
    {
     "ename": "TypeError",
     "evalue": "list indices must be integers or slices, not str",
     "output_type": "error",
     "traceback": [
      "\u001b[1;31m---------------------------------------------------------------------------\u001b[0m",
      "\u001b[1;31mTypeError\u001b[0m                                 Traceback (most recent call last)",
      "\u001b[1;32m<ipython-input-18-f4d57ef9ee27>\u001b[0m in \u001b[0;36m<module>\u001b[1;34m()\u001b[0m\n\u001b[1;32m----> 1\u001b[1;33m \u001b[0mdata2\u001b[0m\u001b[1;33m[\u001b[0m\u001b[1;34m'reviews'\u001b[0m\u001b[1;33m]\u001b[0m\u001b[1;33m\u001b[0m\u001b[0m\n\u001b[0m",
      "\u001b[1;31mTypeError\u001b[0m: list indices must be integers or slices, not str"
     ]
    }
   ],
   "source": [
    "data2['reviews']"
   ]
  },
  {
   "cell_type": "code",
   "execution_count": null,
   "metadata": {},
   "outputs": [],
   "source": []
  }
 ],
 "metadata": {
  "kernelspec": {
   "display_name": "Python 3",
   "language": "python",
   "name": "python3"
  },
  "language_info": {
   "codemirror_mode": {
    "name": "ipython",
    "version": 3
   },
   "file_extension": ".py",
   "mimetype": "text/x-python",
   "name": "python",
   "nbconvert_exporter": "python",
   "pygments_lexer": "ipython3",
   "version": "3.6.5"
  }
 },
 "nbformat": 4,
 "nbformat_minor": 2
}
